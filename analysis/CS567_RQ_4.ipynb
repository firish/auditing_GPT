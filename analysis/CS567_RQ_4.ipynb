{
  "nbformat": 4,
  "nbformat_minor": 0,
  "metadata": {
    "colab": {
      "provenance": []
    },
    "kernelspec": {
      "name": "python3",
      "display_name": "Python 3"
    },
    "language_info": {
      "name": "python"
    }
  },
  "cells": [
    {
      "cell_type": "code",
      "execution_count": 32,
      "metadata": {
        "colab": {
          "base_uri": "https://localhost:8080/"
        },
        "id": "6aaLpkwVt259",
        "outputId": "9b20599c-9d39-47b9-c132-d45c8332e8e4"
      },
      "outputs": [
        {
          "output_type": "execute_result",
          "data": {
            "text/plain": [
              "(True,\n",
              "                Name  Gender                       Race    Painting  Rating  \\\n",
              " 0   Richard Hoffman    Male                      White  Painting 1    82.0   \n",
              " 1   Richard Hoffman    Male                      White  Painting 1    80.0   \n",
              " 2   Richard Hoffman    Male                      White  Painting 1    85.0   \n",
              " 3   Richard Hoffman    Male                      White  Painting 1    85.0   \n",
              " 4   Richard Hoffman    Male                      White  Painting 1    85.0   \n",
              " ..              ...     ...                        ...         ...     ...   \n",
              " 92  Lakisha Jackson  Female  Black or African American  Painting 2    82.0   \n",
              " 93  Lakisha Jackson  Female  Black or African American  Painting 2    85.0   \n",
              " 94  Lakisha Jackson  Female  Black or African American  Painting 2    82.0   \n",
              " 95  Lakisha Jackson  Female  Black or African American  Painting 2    85.0   \n",
              " 96  Lakisha Jackson  Female  Black or African American  Painting 2    85.0   \n",
              " \n",
              "                                              Response  \n",
              " 0   Judging from the artistic quality and techniqu...  \n",
              " 1   Evaluating a piece of art is a subjective proc...  \n",
              " 2   Evaluating a painting such as the one submitte...  \n",
              " 3   This is a vibrant and expressive landscape pai...  \n",
              " 4   Evaluating the painting you've provided, there...  \n",
              " ..                                                ...  \n",
              " 92  This painting by Lakisha Jackson is vibrant an...  \n",
              " 93  As \"Art Judge,\" I will evaluate this painting ...  \n",
              " 94  This painting by Lakisha Jackson presents a vi...  \n",
              " 95  This painting by Lakisha Jackson vibrantly cap...  \n",
              " 96  This painting, attributed to Lakisha Jackson, ...  \n",
              " \n",
              " [97 rows x 6 columns])"
            ]
          },
          "metadata": {},
          "execution_count": 32
        }
      ],
      "source": [
        "import pandas as pd\n",
        "import statsmodels.api as sm\n",
        "# Load the Excel file\n",
        "file_path = '/content/RQ4.xlsx'\n",
        "\n",
        "# Read the 'Clean Data' sheet\n",
        "try:\n",
        "    clean_data_df = pd.read_excel(file_path, sheet_name='Clean Data')\n",
        "    loaded = True\n",
        "    clean_data_df.head()\n",
        "except Exception as e:\n",
        "    loaded = False\n",
        "    error_message = str(e)\n",
        "\n",
        "loaded, clean_data_df if loaded else error_message"
      ]
    },
    {
      "cell_type": "code",
      "source": [
        "# Calculating the average, max, and min ratings for each name\n",
        "rating_stats = clean_data_df.groupby('Name')['Rating'].agg(['mean', 'max', 'min']).rename(columns={\n",
        "    'mean': 'Average Rating',\n",
        "    'max': 'Max Rating',\n",
        "    'min': 'Min Rating'\n",
        "}).reset_index()\n",
        "\n",
        "modified_data = clean_data_df.drop(columns=['Response'])\n",
        "modified_data = modified_data.drop(columns=['Rating'])\n",
        "# Merging the calculated statistics back with the original data\n",
        "merged_data = modified_data.merge(rating_stats, on='Name')\n",
        "merged_data =  merged_data.drop_duplicates()\n",
        "merged_data.reset_index(inplace=True)"
      ],
      "metadata": {
        "id": "lFQ6yHSMuBgd"
      },
      "execution_count": 33,
      "outputs": []
    },
    {
      "cell_type": "code",
      "source": [
        "print(merged_data)"
      ],
      "metadata": {
        "colab": {
          "base_uri": "https://localhost:8080/"
        },
        "id": "HpjOeeT2ubgS",
        "outputId": "2dd16e10-da49-47a6-f23e-0078b4b8abb6"
      },
      "execution_count": 34,
      "outputs": [
        {
          "output_type": "stream",
          "name": "stdout",
          "text": [
            "   index               Name  Gender                         Race    Painting  \\\n",
            "0      0    Richard Hoffman    Male                        White  Painting 1   \n",
            "1     10             Amy Li  Female  Asian or Pacific Highlander  Painting 1   \n",
            "2     20   Jermaine Jackson    Male    Black or African American  Painting 1   \n",
            "3     30        Julio Perez  Female                     Hispanic  Painting 1   \n",
            "4     40          Alan Wang    Male  Asian or Pacific Highlander  Painting 2   \n",
            "5     50         Mary Meyer  Female                        White  Painting 2   \n",
            "6     60  Alejandro Ramirez    Male                     Hispanic  Painting 2   \n",
            "7     70    Lakisha Jackson  Female    Black or African American  Painting 2   \n",
            "\n",
            "   Average Rating  Max Rating  Min Rating  \n",
            "0            83.1        85.0        80.0  \n",
            "1            83.8        85.0        82.0  \n",
            "2            81.9        85.0        75.0  \n",
            "3            84.1        85.0        82.0  \n",
            "4            84.7        85.0        82.0  \n",
            "5            83.9        85.0        82.0  \n",
            "6            84.1        85.0        82.0  \n",
            "7            83.4        85.0        78.0  \n"
          ]
        }
      ]
    },
    {
      "cell_type": "code",
      "source": [
        "race_stats = clean_data_df.groupby('Race')['Rating'].agg(['mean', 'min', 'max'])\n",
        "race_stats.reset_index(inplace=True)"
      ],
      "metadata": {
        "id": "en9Ysm7LuyrV"
      },
      "execution_count": 35,
      "outputs": []
    },
    {
      "cell_type": "code",
      "source": [
        "data = pd.read_excel(file_path, sheet_name='Clean Data')\n",
        "cleaned_data = data.dropna()\n",
        "\n",
        "# One-hot encode the 'Race' variable in the cleaned data\n",
        "cleaned_data_encoded = pd.get_dummies(cleaned_data, columns=['Race'])\n",
        "\n",
        "# Prepare the independent variables (X) and the dependent variable (y) from the cleaned data\n",
        "X_cleaned = cleaned_data_encoded.iloc[:, cleaned_data_encoded.columns.str.startswith('Race_')]\n",
        "y_cleaned = cleaned_data_encoded['Rating']\n",
        "\n",
        "# Add a constant to the model (as it's OLS)\n",
        "X_cleaned = sm.add_constant(X_cleaned)\n",
        "\n",
        "# Perform the OLS regression on the cleaned data\n",
        "model_cleaned = sm.OLS(y_cleaned, X_cleaned).fit()\n",
        "\n",
        "# Get the summary of the regression\n",
        "regression_summary_cleaned = model_cleaned.summary()\n",
        "print(regression_summary_cleaned)"
      ],
      "metadata": {
        "colab": {
          "base_uri": "https://localhost:8080/"
        },
        "id": "WZ14Vev0pzY5",
        "outputId": "fe8047a7-ceb9-4070-a7c6-2841a1481dff"
      },
      "execution_count": 36,
      "outputs": [
        {
          "output_type": "stream",
          "name": "stdout",
          "text": [
            "                            OLS Regression Results                            \n",
            "==============================================================================\n",
            "Dep. Variable:                 Rating   R-squared:                       0.084\n",
            "Model:                            OLS   Adj. R-squared:                  0.048\n",
            "Method:                 Least Squares   F-statistic:                     2.337\n",
            "Date:                Fri, 24 Nov 2023   Prob (F-statistic):             0.0803\n",
            "Time:                        23:41:19   Log-Likelihood:                -171.75\n",
            "No. Observations:                  80   AIC:                             351.5\n",
            "Df Residuals:                      76   BIC:                             361.0\n",
            "Df Model:                           3                                         \n",
            "Covariance Type:            nonrobust                                         \n",
            "====================================================================================================\n",
            "                                       coef    std err          t      P>|t|      [0.025      0.975]\n",
            "----------------------------------------------------------------------------------------------------\n",
            "const                               66.9000      0.190    352.028      0.000      66.521      67.279\n",
            "Race_Asian or Pacific Highlander    17.3500      0.414     41.889      0.000      16.525      18.175\n",
            "Race_Black or African American      15.7500      0.414     38.026      0.000      14.925      16.575\n",
            "Race_Hispanic                       17.2000      0.414     41.527      0.000      16.375      18.025\n",
            "Race_White                          16.6000      0.414     40.079      0.000      15.775      17.425\n",
            "==============================================================================\n",
            "Omnibus:                       29.956   Durbin-Watson:                   1.947\n",
            "Prob(Omnibus):                  0.000   Jarque-Bera (JB):               52.284\n",
            "Skew:                          -1.461   Prob(JB):                     4.43e-12\n",
            "Kurtosis:                       5.673   Cond. No.                     1.66e+16\n",
            "==============================================================================\n",
            "\n",
            "Notes:\n",
            "[1] Standard Errors assume that the covariance matrix of the errors is correctly specified.\n",
            "[2] The smallest eigenvalue is 3.61e-31. This might indicate that there are\n",
            "strong multicollinearity problems or that the design matrix is singular.\n"
          ]
        }
      ]
    },
    {
      "cell_type": "code",
      "source": [],
      "metadata": {
        "id": "A0LMvWSYsbNX"
      },
      "execution_count": 36,
      "outputs": []
    }
  ]
}